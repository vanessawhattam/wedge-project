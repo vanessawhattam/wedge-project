{
 "cells": [
  {
   "cell_type": "markdown",
   "metadata": {},
   "source": [
    "should pull a random sample of owners that is aroun 250mb\n",
    "\n",
    "\n",
    "We need to make sure we have ALL the transactions for each owner that is in the sample"
   ]
  },
  {
   "cell_type": "code",
   "execution_count": 11,
   "metadata": {},
   "outputs": [],
   "source": [
    "import pandas as pd\n",
    "\n",
    "from google.cloud import bigquery\n",
    "from google.oauth2 import service_account\n"
   ]
  },
  {
   "cell_type": "code",
   "execution_count": 14,
   "metadata": {},
   "outputs": [],
   "source": [
    "# JSON key stuff\n",
    "service_path = \"C:/Users/vanes/OneDrive/Desktop/Work/MSBA/ADA/wedge_project/\"\n",
    "service_file = 'wedge-project-vw-key.json'  \n",
    "\n",
    "# Lets me actually acess all stuff\n",
    "credentials = service_account.Credentials.from_service_account_file(service_path + service_file)\n",
    "\n",
    "# The project ID\n",
    "# It wouldn't let me query the umt-msba one even with the JSON key\n",
    "gbq_proj_id = 'wedge-project-vw'\n",
    "\n",
    "# And finally we establish our connection\n",
    "client = bigquery.Client(credentials = credentials, project=gbq_proj_id)\n"
   ]
  },
  {
   "cell_type": "code",
   "execution_count": 23,
   "metadata": {},
   "outputs": [
    {
     "name": "stdout",
     "output_type": "stream",
     "text": [
      "Results saved to task2_output.csv\n"
     ]
    }
   ],
   "source": [
    "\n",
    "# Define the SQL query\n",
    "query = '''\n",
    "WITH rand_owners AS (SELECT DISTINCT card_no\n",
    "  FROM `wedge-project-vw.wedge_preclean.transArchive_20*`\n",
    "  WHERE card_no != 3 \n",
    "  ORDER BY RAND()\n",
    "  LIMIT 420)\n",
    "  \n",
    "SELECT *,\n",
    "        CAST(display AS STRING) AS display\n",
    "FROM `wedge-project-vw.wedge_preclean.transArchive_20*`\n",
    "WHERE card_no in (SELECT card_no\n",
    "                  FROM rand_owners)\n",
    "ORDER BY datetime ASC\n",
    "'''\n",
    "\n",
    "# Run the query\n",
    "query_job = client.query(query)\n",
    "\n",
    "# Fetch the results into a Pandas DataFrame\n",
    "results = query_job.result().to_dataframe()\n",
    "\n",
    "# Name the output file\n",
    "csv_file_path = 'task2_output.csv'\n",
    "\n",
    "# Save the results to a CSV file\n",
    "results.to_csv(csv_file_path, index=False)\n",
    "\n",
    "# Display the first few rows of the resulting dataset just to double check\n",
    "print(f\"Results saved to {csv_file_path}\")\n"
   ]
  }
 ],
 "metadata": {
  "kernelspec": {
   "display_name": "Python 3",
   "language": "python",
   "name": "python3"
  },
  "language_info": {
   "codemirror_mode": {
    "name": "ipython",
    "version": 3
   },
   "file_extension": ".py",
   "mimetype": "text/x-python",
   "name": "python",
   "nbconvert_exporter": "python",
   "pygments_lexer": "ipython3",
   "version": "3.11.4"
  }
 },
 "nbformat": 4,
 "nbformat_minor": 2
}
