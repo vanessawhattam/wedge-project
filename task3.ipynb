{
 "cells": [
  {
   "cell_type": "code",
   "execution_count": 10,
   "metadata": {},
   "outputs": [],
   "source": [
    "import sqlite3\n",
    "import pandas as pd\n",
    "\n",
    "from google.cloud import bigquery\n",
    "from google.oauth2 import service_account\n"
   ]
  },
  {
   "cell_type": "code",
   "execution_count": 2,
   "metadata": {},
   "outputs": [],
   "source": [
    "# JSON key location\n",
    "service_path = \"C:/Users/vanes/OneDrive/Desktop/Work/MSBA/ADA/wedge_project/\"\n",
    "service_file = 'wedge-project-vw-key.json'  \n",
    "\n",
    "# Give my credentials to Google\n",
    "credentials = service_account.Credentials.from_service_account_file(service_path + service_file)\n",
    "\n",
    "# GBQ project ID and dataset ID\n",
    "proj_id = 'wedge-project-vw'\n",
    "\n",
    "# And finally we establish our connection\n",
    "client = bigquery.Client(credentials = credentials, project=proj_id)\n"
   ]
  },
  {
   "cell_type": "code",
   "execution_count": 11,
   "metadata": {},
   "outputs": [],
   "source": [
    "# Connect to a database (or create it if it doesn't exist)\n",
    "conn = sqlite3.connect('wedge_data2.db')\n",
    "\n",
    "# Create a cursor object to interact with the database\n",
    "cursor = conn.cursor()"
   ]
  },
  {
   "cell_type": "code",
   "execution_count": 12,
   "metadata": {},
   "outputs": [
    {
     "data": {
      "text/plain": [
       "39421"
      ]
     },
     "execution_count": 12,
     "metadata": {},
     "output_type": "execute_result"
    }
   ],
   "source": [
    "#1.\tSales by date by hour: By calendar date (YYYY-MM-DD) and hour of the day, \n",
    "# determine the total spend in the store, the number of transactions, \n",
    "# and a count of the number of items . \n",
    "\n",
    "# Write the query\n",
    "query_1 = \"\"\"SELECT EXTRACT(DATE FROM datetime) as date, \n",
    "       EXTRACT(HOUR from datetime) as hour,\n",
    "       SUM(total) as spend,\n",
    "       COUNT(DISTINCT trans_id) as trans,\n",
    "       COUNT(description) as items\n",
    "FROM `wedge-project-vw.wedge_data2.transArchive_*` \n",
    "GROUP BY date, hour\n",
    "ORDER BY date, hour ASC\n",
    ";\"\"\"\n",
    "\n",
    "# Execute the query\n",
    "query_job = client.query(\n",
    "    query_1,\n",
    "    location=\"US\",\n",
    ")\n",
    "\n",
    "# Convert the result to a dataframe\n",
    "sales_date_hour = query_job.to_dataframe()\n",
    "\n",
    "# Write the dataframe to a SQLite table\n",
    "sales_date_hour.to_sql('sales_date_hour', conn, index=False, if_exists='replace')\n",
    "\n"
   ]
  },
  {
   "cell_type": "code",
   "execution_count": 13,
   "metadata": {},
   "outputs": [
    {
     "data": {
      "text/plain": [
       "810208"
      ]
     },
     "execution_count": 13,
     "metadata": {},
     "output_type": "execute_result"
    }
   ],
   "source": [
    "#2.\tSales by owner by year by month: A file that has the following columns: \n",
    "# card_no, year, month, sales, transactions, and items. \n",
    "\n",
    "# Write the query\n",
    "query_2 = \"\"\"SELECT card_no,\n",
    "       EXTRACT(YEAR FROM datetime) as year, \n",
    "       EXTRACT(MONTH from datetime) as month,\n",
    "       SUM(total) as sales,\n",
    "       COUNT(DISTINCT trans_id) as trans,\n",
    "       COUNT(description) as items\n",
    "FROM `wedge-project-vw.wedge_data2.transArchive_*` \n",
    "GROUP BY card_no, year, month\n",
    "ORDER BY year, month ASC\n",
    ";\"\"\"\n",
    "\n",
    "# Execute the query\n",
    "query_job2 = client.query(\n",
    "    query_2,\n",
    "    location=\"US\",\n",
    ")\n",
    "\n",
    "# Write the query results to a dataframe\n",
    "owner_year_month = query_job2.to_dataframe()\n",
    "\n",
    "# Write the dataframe to SQLite\n",
    "owner_year_month.to_sql('owner_year_month', conn, index=False, if_exists='replace')"
   ]
  },
  {
   "cell_type": "code",
   "execution_count": 14,
   "metadata": {},
   "outputs": [
    {
     "data": {
      "text/plain": [
       "1214096"
      ]
     },
     "execution_count": 14,
     "metadata": {},
     "output_type": "execute_result"
    }
   ],
   "source": [
    "\n",
    "#3.\tSales by product description by year by month: A file that has the following columns:\n",
    "# upc, description, department number, department name, year, month, sales, transactions, and items.\n",
    "\n",
    "# Query for third prompt\n",
    "query_3 = \"\"\"SELECT upc,\n",
    "       description,\n",
    "       trans.department, \n",
    "       dl.dept_name, \n",
    "       EXTRACT(YEAR FROM datetime) as year, \n",
    "       EXTRACT(MONTH from datetime) as month,\n",
    "       SUM(total) as sales,\n",
    "       COUNT(DISTINCT trans_id) as trans,\n",
    "       COUNT(description) as items\n",
    "FROM `wedge-project-vw.wedge_data2.transArchive_*` trans\n",
    "JOIN `wedge_data2.dept_lookup` dl on  trans.department = dl.department\n",
    "GROUP BY upc, description, department, dept_name, year, month\n",
    "ORDER BY year, month ASC\n",
    ";\"\"\"\n",
    "\n",
    "# Execute the query\n",
    "query_job3 = client.query(\n",
    "    query_3,\n",
    "    location=\"US\",\n",
    ")\n",
    "\n",
    "# Convert results of query to dataframe\n",
    "product_year_month = query_job3.to_dataframe()\n",
    "\n",
    "# Create SQLite table\n",
    "product_year_month.to_sql('product_year_month', conn, index=False, if_exists='replace')"
   ]
  },
  {
   "cell_type": "code",
   "execution_count": 15,
   "metadata": {},
   "outputs": [],
   "source": [
    "# Commit the changes and close the connection\n",
    "conn.commit()\n",
    "conn.close()"
   ]
  }
 ],
 "metadata": {
  "kernelspec": {
   "display_name": "Python 3",
   "language": "python",
   "name": "python3"
  },
  "language_info": {
   "codemirror_mode": {
    "name": "ipython",
    "version": 3
   },
   "file_extension": ".py",
   "mimetype": "text/x-python",
   "name": "python",
   "nbconvert_exporter": "python",
   "pygments_lexer": "ipython3",
   "version": "3.11.4"
  }
 },
 "nbformat": 4,
 "nbformat_minor": 2
}
